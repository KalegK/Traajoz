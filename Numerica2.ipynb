{
 "cells": [
  {
   "cell_type": "code",
   "execution_count": 220,
   "metadata": {},
   "outputs": [],
   "source": [
    "def error_absoluto(valor_real, valor_cifras_significativas):\n",
    "    #| real - punto flotante|\n",
    "    return np.absolute((valor_real-valor_cifras_significativas))"
   ]
  },
  {
   "cell_type": "code",
   "execution_count": 221,
   "metadata": {},
   "outputs": [],
   "source": [
    "import numpy as np\n",
    "import matplotlib.pyplot as plt\n",
    "\n",
    "\n",
    "\n",
    "def f(x):\n",
    "    y=((x**3.0)/3.0)+((x**2.0)/2.0)+(2.0*x)+(17/6)\n",
    "    return y\n",
    "\n",
    "\n",
    "def f_prima(x):\n",
    "    y=(x**2.0)+x+2.0\n",
    "    return y\n",
    "\n",
    "def f_prima_prima(x):\n",
    "    y=(2.0*x)+1.0\n",
    "    return y\n"
   ]
  },
  {
   "cell_type": "code",
   "execution_count": 222,
   "metadata": {},
   "outputs": [],
   "source": [
    "def N_R_mejorado(P0):\n",
    "    pn=(P0)\n",
    "    pn_sig= pn - (f(pn)*f_prima(pn))/ ( f_prima(pn)**2  - f(pn)*f_prima_prima(pn))\n",
    "    print(pn, pn_sig)\n",
    "    cont=0\n",
    "    while ((round(pn, 6))!=((round(pn_sig, 6)))):   \n",
    "        print(\"Pn\",pn,\"pn_sig\", pn_sig)\n",
    "        pn=pn_sig\n",
    "        pn_sig=pn - (f(pn)*f_prima(pn))/ ( f_prima(pn)**2  - f(pn)*f_prima_prima(pn))\n",
    "        #print(\"Pn\",pn,\"pn_sig\", pn_sig)\n",
    "        cont=cont+1\n",
    "        print(cont)\n",
    "    print(\"Pn\",pn,\"pn_sig\", pn_sig)\n",
    "    return pn,cont\n",
    "    \n"
   ]
  },
  {
   "cell_type": "code",
   "execution_count": 223,
   "metadata": {},
   "outputs": [
    {
     "name": "stdout",
     "output_type": "stream",
     "text": [
      "NR mejorado\n",
      "50 -0.6453922286147105\n",
      "Pn 50 pn_sig -0.6453922286147105\n",
      "1\n",
      "Pn -0.6453922286147105 pn_sig -1.4581650777098454\n",
      "2\n",
      "Pn -1.4581650777098454 pn_sig -1.4378794657497367\n",
      "3\n",
      "Pn -1.4378794657497367 pn_sig -1.4380261442038422\n",
      "4\n",
      "Pn -1.4380261442038422 pn_sig -1.438026151877631\n"
     ]
    },
    {
     "data": {
      "text/plain": [
       "(-1.4380261442038422, 4)"
      ]
     },
     "execution_count": 223,
     "metadata": {},
     "output_type": "execute_result"
    }
   ],
   "source": [
    "PS0=50\n",
    "PS1=3\n",
    "\n",
    "print(\"NR mejorado\") \n",
    "N_R_mejorado(PS0)"
   ]
  },
  {
   "cell_type": "code",
   "execution_count": 224,
   "metadata": {},
   "outputs": [],
   "source": [
    "def Newton_raphson(P_sub_0):\n",
    "    P_sub_n=P_sub_0\n",
    "    P_sub_ns=(P_sub_n- (1/f_prima(P_sub_n) )*f(P_sub_n))\n",
    "    print(P_sub_n, P_sub_ns)\n",
    "    cont=0\n",
    "    while ((round(P_sub_n, 6))!=(round(P_sub_ns, 6))):\n",
    "        P_sub_n=P_sub_ns\n",
    "        P_sub_ns=(P_sub_n- (1/f_prima(P_sub_n) )*f(P_sub_n) )\n",
    "        print(\"Pn\", P_sub_n,\"pn_sig\", P_sub_ns)\n",
    "        cont=cont+1\n",
    "    return P_sub_n,cont"
   ]
  },
  {
   "cell_type": "code",
   "execution_count": 225,
   "metadata": {},
   "outputs": [
    {
     "name": "stdout",
     "output_type": "stream",
     "text": [
      "NR \n",
      "50 33.14282915360502\n",
      "Pn 33.14282915360502 pn_sig 21.89223749132171\n",
      "Pn 21.89223749132171 pn_sig 14.372428906350619\n",
      "Pn 14.372428906350619 pn_sig 9.32852617598072\n",
      "Pn 9.32852617598072 pn_sig 5.916272588759236\n",
      "Pn 5.916272588759236 pn_sig 3.5584415546265302\n",
      "Pn 3.5584415546265302 pn_sig 1.8405800007927524\n",
      "Pn 1.8405800007927524 pn_sig 0.4174507268895524\n",
      "Pn 0.4174507268895524 pn_sig -1.0408944825282636\n",
      "Pn -1.0408944825282636 pn_sig -1.4900117600283485\n",
      "Pn -1.4900117600283485 pn_sig -1.4389889947601027\n",
      "Pn -1.4389889947601027 pn_sig -1.4380264825412752\n",
      "Pn -1.4380264825412752 pn_sig -1.43802615187767\n"
     ]
    },
    {
     "data": {
      "text/plain": [
       "(-1.4380264825412752, 12)"
      ]
     },
     "execution_count": 225,
     "metadata": {},
     "output_type": "execute_result"
    }
   ],
   "source": [
    "print(\"NR \") \n",
    "Newton_raphson(PS0)"
   ]
  },
  {
   "cell_type": "code",
   "execution_count": 226,
   "metadata": {},
   "outputs": [],
   "source": [
    "def Secante(P_sub_0,P_sub_1):\n",
    "    P_sub_n1=P_sub_0\n",
    "    P_sub_n2=P_sub_1\n",
    "    cont=0\n",
    "    while(((f(P_sub_n2)-f(P_sub_n1)))* f(P_sub_n1) != 0.0):\n",
    "        print(P_sub_n1,P_sub_n2, P_sub_n1- ((P_sub_n2-P_sub_n1)/(f(P_sub_n2)-f(P_sub_n1)))* f(P_sub_n1))\n",
    "        aux=P_sub_n2\n",
    "        P_sub_n2=P_sub_n1- ((P_sub_n2-P_sub_n1)/(f(P_sub_n2)-f(P_sub_n1)))* f(P_sub_n1)\n",
    "        P_sub_n1=aux\n",
    "        cont=cont+1\n",
    "    return P_sub_n1,P_sub_n2,cont\n"
   ]
  },
  {
   "cell_type": "code",
   "execution_count": 227,
   "metadata": {},
   "outputs": [
    {
     "name": "stdout",
     "output_type": "stream",
     "text": [
      "50 3 2.975587538713789\n",
      "3 2.975587538713789 1.3949891128815604\n",
      "2.975587538713789 1.3949891128815604 0.5768826145947528\n",
      "1.3949891128815604 0.5768826145947528 -0.4738698811087585\n",
      "0.5768826145947528 -0.4738698811087585 -1.388244778417111\n",
      "-0.4738698811087585 -1.388244778417111 -1.4523870087370983\n",
      "-1.388244778417111 -1.4523870087370983 -1.437771213687057\n",
      "-1.4523870087370983 -1.437771213687057 -1.4380248460887952\n",
      "-1.437771213687057 -1.4380248460887952 -1.4380261519963677\n",
      "-1.4380248460887952 -1.4380261519963677 -1.438026151877631\n",
      "-1.4380261519963677 -1.438026151877631 -1.438026151877631\n"
     ]
    },
    {
     "data": {
      "text/plain": [
       "(-1.438026151877631, -1.438026151877631, 11)"
      ]
     },
     "execution_count": 227,
     "metadata": {},
     "output_type": "execute_result"
    }
   ],
   "source": [
    "Secante(PS0,PS1)"
   ]
  },
  {
   "cell_type": "code",
   "execution_count": null,
   "metadata": {},
   "outputs": [],
   "source": []
  },
  {
   "cell_type": "code",
   "execution_count": null,
   "metadata": {},
   "outputs": [],
   "source": []
  }
 ],
 "metadata": {
  "kernelspec": {
   "display_name": "Python 3",
   "language": "python",
   "name": "python3"
  },
  "language_info": {
   "codemirror_mode": {
    "name": "ipython",
    "version": 3
   },
   "file_extension": ".py",
   "mimetype": "text/x-python",
   "name": "python",
   "nbconvert_exporter": "python",
   "pygments_lexer": "ipython3",
   "version": "3.8.1"
  }
 },
 "nbformat": 4,
 "nbformat_minor": 4
}
