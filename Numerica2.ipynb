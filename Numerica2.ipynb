{
 "cells": [
  {
   "cell_type": "code",
   "execution_count": 5,
   "metadata": {},
   "outputs": [],
   "source": [
    "def error_absoluto(valor_real, valor_cifras_significativas):\n",
    "    #| real - punto flotante|\n",
    "    return np.absolute((valor_real-valor_cifras_significativas))"
   ]
  },
  {
   "cell_type": "code",
   "execution_count": 6,
   "metadata": {},
   "outputs": [],
   "source": [
    "import numpy as np\n",
    "import matplotlib.pyplot as plt\n",
    "\n",
    "\n",
    "\n",
    "def f(x):\n",
    "    y=((x**3.0)/3.0)+((x**2.0)/2.0)+(2.0*x)+(17/6)\n",
    "    return y\n",
    "\n",
    "\n",
    "def f_prima(x):\n",
    "    y=(x**2.0)+x+2.0\n",
    "    return y\n",
    "\n",
    "def f_prima_prima(x):\n",
    "    y=(2.0*x)+1.0\n",
    "    return y\n"
   ]
  },
  {
   "cell_type": "code",
   "execution_count": 7,
   "metadata": {},
   "outputs": [],
   "source": [
    "def N_R_mejorado(P0):\n",
    "    pn=P0\n",
    "    pn_sig= pn - (f(pn)*f_prima(pn))/ ( f_prima(pn)**2  - f(pn)*f_prima_prima(pn))\n",
    "    iteraciones=0\n",
    "    while (1):\n",
    "        #print(pn,pn -  (f(pn)*f_prima(pn))/ ( f_prima(pn)**2  - f(pn)*f_prima_prima(pn)) )\n",
    "        pn=pn_sig\n",
    "        pn_sig=pn - (f(pn)*f_prima(pn))/ ( f_prima(pn)**2  - f(pn)*f_prima_prima(pn))\n",
    "        error = error_absoluto(pn,pn_sig)\n",
    "        #print(error)\n",
    "        iteraciones=iteraciones+1\n",
    "        if(error <= 0.000001):\n",
    "        \tbreak\n",
    "    print(\"iteraciones: \", iteraciones)\n",
    "    print(\"pn\", pn)\n",
    "    return pn, iteraciones\n"
   ]
  },
  {
   "cell_type": "code",
   "execution_count": 8,
   "metadata": {},
   "outputs": [
    {
     "name": "stdout",
     "output_type": "stream",
     "text": [
      "NR mejorado\n",
      "iteraciones:  5\n",
      "pn -1.4380260626422607\n"
     ]
    },
    {
     "data": {
      "text/plain": [
       "(-1.4380260626422607, 5)"
      ]
     },
     "execution_count": 8,
     "metadata": {},
     "output_type": "execute_result"
    }
   ],
   "source": [
    "PS0=5\n",
    "PS1=3\n",
    "\n",
    "print(\"NR mejorado\") \n",
    "N_R_mejorado(PS0)"
   ]
  },
  {
   "cell_type": "code",
   "execution_count": 9,
   "metadata": {},
   "outputs": [],
   "source": [
    "def Newton_raphson(P_sub_0):\n",
    "    P_sub_n=P_sub_0\n",
    "    p_sig = P_sub_n- (1/f_prima(P_sub_n) )*f(P_sub_n)\n",
    "    iteraciones = 0\n",
    "    while(1):\n",
    "    \t#print(P_sub_n, (P_sub_n- (1/f_prima(P_sub_n) )*f(P_sub_n) ) ,iteraciones)\n",
    "    \tP_sub_n = p_sig\n",
    "    \tp_sig = P_sub_n- (1/f_prima(P_sub_n) )*f(P_sub_n)\n",
    "    \terror = (error_absoluto(P_sub_n,p_sig))\n",
    "    \titeraciones = iteraciones + 1\n",
    "    \t#print(error)\n",
    "    \tif(error <= 0.000001):\n",
    "    \t\tbreak\n",
    "    print(\"resultado: \", p_sig,\"ite: \" ,iteraciones)\n",
    "    return p_sig, iteraciones"
   ]
  },
  {
   "cell_type": "code",
   "execution_count": 10,
   "metadata": {},
   "outputs": [
    {
     "name": "stdout",
     "output_type": "stream",
     "text": [
      "NR \n",
      "resultado:  -1.4380261518776314 ite:  6\n"
     ]
    },
    {
     "data": {
      "text/plain": [
       "(-1.4380261518776314, 6)"
      ]
     },
     "execution_count": 10,
     "metadata": {},
     "output_type": "execute_result"
    }
   ],
   "source": [
    "print(\"NR \") \n",
    "Newton_raphson(PS0)"
   ]
  },
  {
   "cell_type": "code",
   "execution_count": 11,
   "metadata": {},
   "outputs": [],
   "source": [
    "def steffesen(P0):\n",
    "    x0=P0\n",
    "    iteraciones = 0\n",
    "    x1 = x0 - (x0-f(x0))**2 / (f(f(x0)) - 2*f(x0) + x0)\n",
    "    #print(\"\\nx0, x1: \",x0, x1)\n",
    "    while(1):\n",
    "        #print(x0,  x0 - (x0-f(x0))**2 / (f(f(x0)) - 2*f(x0) + x0))\n",
    "        x0 = x1\n",
    "        x1=  x0 - (x0-f(x0))**2 / (f(f(x0)) - 2*f(x0) + x0) \n",
    "        iteraciones = iteraciones + 1\n",
    "        error = error_absoluto(x0,x1)\n",
    "        if(error <= 0.000001):\n",
    "        \tprint(\"distef\")\n",
    "        \tbreak\n",
    "        #print(\"x0,x1: \",x0,x1)\n",
    "    print(\"res: \", x1, \"ite: \", iteraciones)\n",
    "    return x1, iteraciones"
   ]
  },
  {
   "cell_type": "code",
   "execution_count": 12,
   "metadata": {},
   "outputs": [
    {
     "name": "stdout",
     "output_type": "stream",
     "text": [
      "Steffesen\n",
      "distef\n",
      "res:  -2.0540758850212 ite:  59\n"
     ]
    },
    {
     "data": {
      "text/plain": [
       "(-2.0540758850212, 59)"
      ]
     },
     "execution_count": 12,
     "metadata": {},
     "output_type": "execute_result"
    }
   ],
   "source": [
    "print(\"Steffesen\")\n",
    "steffesen(PS0)"
   ]
  },
  {
   "cell_type": "code",
   "execution_count": 13,
   "metadata": {},
   "outputs": [],
   "source": [
    "def Secante(P_sub_0,P_sub_1):\n",
    "    P_sub_n1=P_sub_0\n",
    "    P_sub_n2=P_sub_1\n",
    "    iteraciones=0\n",
    "    while(1):\n",
    "        #print(P_sub_n1,P_sub_n2, P_sub_n1- ((P_sub_n2-P_sub_n1)/(f(P_sub_n2)-f(P_sub_n1)))* f(P_sub_n1))\n",
    "        #print(((f(P_sub_n2)-f(P_sub_n1)))* f(P_sub_n1))\n",
    "        aux=P_sub_n2\n",
    "        P_sub_n2=P_sub_n1- ((P_sub_n2-P_sub_n1)/(f(P_sub_n2)-f(P_sub_n1)))* f(P_sub_n1)\n",
    "        P_sub_n1=aux\n",
    "        iteraciones = iteraciones + 1\n",
    "        error = error_absoluto(P_sub_n1,P_sub_n2)\n",
    "        if(error <= 0.000001):\n",
    "        \tbreak\n",
    "        #print(P_sub_n1,\"ite: \",iteraciones)\n",
    "    print(\"resultado: \", P_sub_n1, \"iteraciones: \", iteraciones)\n",
    "    return P_sub_n1, iteraciones"
   ]
  },
  {
   "cell_type": "code",
   "execution_count": 14,
   "metadata": {},
   "outputs": [
    {
     "name": "stdout",
     "output_type": "stream",
     "text": [
      "resultado:  -1.4380261513314065 iteraciones:  10\n"
     ]
    },
    {
     "data": {
      "text/plain": [
       "(-1.4380261513314065, 10)"
      ]
     },
     "execution_count": 14,
     "metadata": {},
     "output_type": "execute_result"
    }
   ],
   "source": [
    "Secante(PS0,PS1)"
   ]
  },
  {
   "cell_type": "code",
   "execution_count": 15,
   "metadata": {},
   "outputs": [],
   "source": [
    "def falsa_posicion(a,b):\n",
    "    an = a\n",
    "    bn = b\n",
    "    print(an,bn,f(an), f(bn))\n",
    "    iteraciones = 0\n",
    "    while(1):\n",
    "        P_sub_n = bn - ((f(bn)*(bn - an)) / ( f(bn) -  f(an)))\n",
    "        #print(an,bn,P_sub_n, f(P_sub_n))\n",
    "        error = error_absoluto(an, P_sub_n)\n",
    "        if(error <= 0.000001):\n",
    "        \tbreak\n",
    "        if (f(an) * f(P_sub_n) > 0):\n",
    "            an=P_sub_n\n",
    "        elif( f(bn) * f(P_sub_n) > 0):\n",
    "            bn = P_sub_n\n",
    "        iteraciones = iteraciones + 1\n",
    "    print(\"resultado: \", P_sub_n, \"iteraciones: \", iteraciones)\n",
    "    return P_sub_n, iteraciones"
   ]
  },
  {
   "cell_type": "code",
   "execution_count": 16,
   "metadata": {},
   "outputs": [
    {
     "name": "stdout",
     "output_type": "stream",
     "text": [
      "5 3 66.99999999999999 22.333333333333332\n",
      "di\n",
      "resultado:  -1.4380254571638664 iteraciones:  24\n"
     ]
    },
    {
     "data": {
      "text/plain": [
       "(-1.4380254571638664, 24)"
      ]
     },
     "execution_count": 16,
     "metadata": {},
     "output_type": "execute_result"
    }
   ],
   "source": [
    "falsa_posicion(PS0,PS1)"
   ]
  },
  {
   "cell_type": "code",
   "execution_count": 155,
   "metadata": {},
   "outputs": [],
   "source": [
    "def grafico1(a, b, c, d, e):\n",
    "\tnombres = ['NR mejorado', 'Newton_raphson', 'steffesen', 'secante', 'falsa posicion']\n",
    "\tvalores = [a, b, c, d, e]\n",
    "\tfig, ax = plt.subplots()\n",
    "\tax.set_ylabel(\"valores\")\n",
    "\tax.set_title(\"valorese obtenidos\")\n",
    "\tplt.bar(nombres, valores)\n",
    "\ti = 0\n",
    "\tfor a, b in zip(valores, nombres):\n",
    "\t\tplt.plot(a, label=nombres[i]+': {}'.format(a))\n",
    "\t\ti = i + 1\n",
    "\tplt.legend()\n",
    "\tplt.show()"
   ]
  },
  {
   "cell_type": "code",
   "execution_count": 156,
   "metadata": {},
   "outputs": [],
   "source": [
    "def grafico2(a, b, c, d, e):\n",
    "\tnombres = ['NR mejorado', 'Newton_raphson', 'steffesen', 'secante', 'falsa posicion']\n",
    "\tvalores = [a, b, c, d, e]\n",
    "\tfig, ax = plt.subplots()\n",
    "\tax.set_ylabel(\"iteraciones\")\n",
    "\tax.set_title(\"numero de iteraciones\")\n",
    "\tplt.bar(nombres, valores)\n",
    "\ti = 0\n",
    "\tfor a, b in zip(valores, nombres):\n",
    "\t\tplt.plot(a, label=nombres[i]+': {}'.format(a))\n",
    "\t\ti = i + 1\n",
    "\tplt.legend()\n",
    "\tplt.show()\n"
   ]
  },
  {
   "cell_type": "code",
   "execution_count": 157,
   "metadata": {},
   "outputs": [
    {
     "name": "stdout",
     "output_type": "stream",
     "text": [
      "iteraciones:  5\n",
      "pn -1.4380260626422607\n",
      "resultado:  -1.4380261518776314 ite:  6\n",
      "distef\n",
      "res:  -2.0540758850212 ite:  59\n",
      "resultado:  -1.4380261513314065 iteraciones:  10\n",
      "5 3 66.99999999999999 22.333333333333332\n",
      "di\n",
      "resultado:  -1.4380254571638664 iteraciones:  24\n"
     ]
    },
    {
     "data": {
      "image/png": "[encoded data removed]",
      "text/plain": [
       "<Figure size 432x288 with 1 Axes>"
      ]
     },
     "metadata": {
      "needs_background": "light"
     },
     "output_type": "display_data"
    },
    {
     "data": {
      "image/png": "[encoded data removed]",
      "text/plain": [
       "<Figure size 432x288 with 1 Axes>"
      ]
     },
     "metadata": {
      "needs_background": "light"
     },
     "output_type": "display_data"
    }
   ],
   "source": [
    "#AL IMPLEMENTAR EL GRAFICO AQUI ESTE SE VE UN POCO PEQUEÑO Y AJUSTADO\n",
    "nmr, nmi=N_R_mejorado(PS0)\n",
    "nrr, nri = Newton_raphson(PS0)\n",
    "sr, si = steffesen(PS0)\n",
    "scr, sci = Secante(PS0,PS1)\n",
    "fpr, fpi = falsa_posicion(PS0,PS1)\n",
    "\n",
    "grafico1(nmr, nrr, sr, scr,fpr)\n",
    "grafico2(nmi, nri, si, sci,fpi)"
   ]
  },
  {
   "cell_type": "code",
   "execution_count": null,
   "metadata": {},
   "outputs": [],
   "source": []
  },
  {
   "cell_type": "code",
   "execution_count": null,
   "metadata": {},
   "outputs": [],
   "source": []
  },
  {
   "cell_type": "code",
   "execution_count": null,
   "metadata": {},
   "outputs": [],
   "source": []
  }
 ],
 "metadata": {
  "kernelspec": {
   "display_name": "Python 3",
   "language": "python",
   "name": "python3"
  },
  "language_info": {
   "codemirror_mode": {
    "name": "ipython",
    "version": 3
   },
   "file_extension": ".py",
   "mimetype": "text/x-python",
   "name": "python",
   "nbconvert_exporter": "python",
   "pygments_lexer": "ipython3",
   "version": "3.8.1"
  }
 },
 "nbformat": 4,
 "nbformat_minor": 4
}
