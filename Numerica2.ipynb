{
 "cells": [
  {
   "cell_type": "code",
   "execution_count": 1,
   "metadata": {},
   "outputs": [],
   "source": [
    "import numpy as np\n",
    "import matplotlib.pyplot as plt\n",
    "\n",
    "\n",
    "\n",
    "def f(x):\n",
    "    y= ((x**3.0)/3.0)+((x**2.0)/2.0)+2.0*x\n",
    "    return y\n",
    "\n",
    "\n",
    "def f_prima(x):\n",
    "    y=(x**2.0)+x+2.0\n",
    "    return y\n",
    "\n",
    "def f_prima_prima(x):\n",
    "    y=(2.0**x)+1.0\n",
    "    return y\n"
   ]
  },
  {
   "cell_type": "code",
   "execution_count": 2,
   "metadata": {},
   "outputs": [],
   "source": [
    "def N_R_mejorado(P0):\n",
    "    pn=(P0)\n",
    "    print((round(pn, 5)))\n",
    "    pn_sig= pn - (f(pn)*f_prima(pn))/ ( f_prima(pn)**2  - f(pn)*f_prima_prima(pn))\n",
    "    cont=0\n",
    "    while ((round(pn, 5))!=((round(pn_sig, 5)))):\n",
    "       # print((round(pn_sig, 6)))\n",
    "        pn_aux=pn_sig\n",
    "        pn=pn_aux\n",
    "        pn_sig=pn - (f(pn)*f_prima(pn))/ ( f_prima(pn)**2  - f(pn)*f_prima_prima(pn))\n",
    "        cont=cont+1\n",
    "    print(cont,\"iteraciones\")\n",
    "    print(\"pn\",pn)\n",
    "    print(\"pn_sig\", pn_sig)\n"
   ]
  },
  {
   "cell_type": "code",
   "execution_count": 3,
   "metadata": {},
   "outputs": [
    {
     "name": "stdout",
     "output_type": "stream",
     "text": [
      "NR mejorado\n",
      "4.9\n",
      "163436 iteraciones\n",
      "pn 26.079875003361234\n",
      "pn_sig 26.0798849885464\n"
     ]
    }
   ],
   "source": [
    "PS0=4.9\n",
    "\n",
    "print(\"NR mejorado\") \n",
    "N_R_mejorado(PS0)"
   ]
  },
  {
   "cell_type": "code",
   "execution_count": 4,
   "metadata": {},
   "outputs": [],
   "source": [
    "def Newton_raphson(P_sub_0, num_iteraciones):\n",
    "    P_sub_n=P_sub_0\n",
    "    for i in range(0,num_iteraciones):\n",
    "        print(P_sub_n, (P_sub_n- (1/f_prima(P_sub_n) )*f(P_sub_n) ) ,i)\n",
    "        P_sub_n=(P_sub_n- (1/f_prima(P_sub_n) )*f(P_sub_n) )\n",
    "    return P_sub_n"
   ]
  },
  {
   "cell_type": "code",
   "execution_count": null,
   "metadata": {},
   "outputs": [],
   "source": []
  }
 ],
 "metadata": {
  "kernelspec": {
   "display_name": "Python 3",
   "language": "python",
   "name": "python3"
  },
  "language_info": {
   "codemirror_mode": {
    "name": "ipython",
    "version": 3
   },
   "file_extension": ".py",
   "mimetype": "text/x-python",
   "name": "python",
   "nbconvert_exporter": "python",
   "pygments_lexer": "ipython3",
   "version": "3.8.1"
  }
 },
 "nbformat": 4,
 "nbformat_minor": 4
}
