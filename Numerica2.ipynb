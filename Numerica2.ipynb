{
 "cells": [
  {
   "cell_type": "code",
   "execution_count": 87,
   "metadata": {},
   "outputs": [],
   "source": [
    "import numpy as np\n",
    "import matplotlib.pyplot as plt\n",
    "\n",
    "\n",
    "\n",
    "def f(x):\n",
    "    y=((x**3.0)/3.0)+((x**2.0)/2.0)+2.0*x+17/6\n",
    "    return y\n",
    "\n",
    "\n",
    "def f_prima(x):\n",
    "    y=(x**2.0)+x+2.0\n",
    "    return y\n",
    "\n",
    "def f_prima_prima(x):\n",
    "    y=(2.0**x)+1.0\n",
    "    return y\n"
   ]
  },
  {
   "cell_type": "code",
   "execution_count": 103,
   "metadata": {},
   "outputs": [],
   "source": [
    "def N_R_mejorado(P0):\n",
    "    pn=(P0)\n",
    "    pn_sig= pn - (f(pn)*f_prima(pn))/ ( f_prima(pn)**2  - f(pn)*f_prima_prima(pn))\n",
    "    print(\"Pn\",pn,\"pn_sig\", pn_sig)\n",
    "    cont=0\n",
    "    while pn!=pn_sig:   \n",
    "        pn_aux=pn_sig\n",
    "        pn=pn_aux\n",
    "        pn_sig=pn - (f(pn)*f_prima(pn))/ ( f_prima(pn)**2  - f(pn)*f_prima_prima(pn))\n",
    "        cont=cont+1\n",
    "        print(\"Pn\",pn,\"pn_sig\", pn_sig)\n",
    "    print(cont,\"iteraciones\")\n",
    "    print(\"pn\",pn)\n",
    "    print(\"pn_sig\", pn_sig)\n"
   ]
  },
  {
   "cell_type": "code",
   "execution_count": 104,
   "metadata": {},
   "outputs": [
    {
     "name": "stdout",
     "output_type": "stream",
     "text": [
      "NR mejorado\n",
      "Pn -1 pn_sig -1.8000000000000003\n",
      "Pn -1.8000000000000003 pn_sig -1.5165703909141048\n",
      "Pn -1.5165703909141048 pn_sig -1.4429466118309178\n",
      "Pn -1.4429466118309178 pn_sig -1.4380472594626938\n",
      "Pn -1.4380472594626938 pn_sig -1.4380261522684659\n",
      "Pn -1.4380261522684659 pn_sig -1.438026151877631\n",
      "Pn -1.438026151877631 pn_sig -1.438026151877631\n",
      "6 iteraciones\n",
      "pn -1.438026151877631\n",
      "pn_sig -1.438026151877631\n"
     ]
    }
   ],
   "source": [
    "PS0=-1\n",
    "\n",
    "print(\"NR mejorado\") \n",
    "N_R_mejorado(PS0)"
   ]
  },
  {
   "cell_type": "code",
   "execution_count": 118,
   "metadata": {},
   "outputs": [],
   "source": [
    "def Newton_raphson(P_sub_0):\n",
    "    P_sub_n=P_sub_0\n",
    "    P_sub_ns=(P_sub_n- (1/f_prima(P_sub_n) )*f(P_sub_n))\n",
    "    print(P_sub_n, P_sub_ns)\n",
    "    cont=0\n",
    "    while  P_sub_n!=P_sub_ns:\n",
    "        pn_aux=P_sub_ns\n",
    "        P_sub_n=pn_aux\n",
    "        P_sub_ns=(P_sub_n- (1/f_prima(P_sub_n) )*f(P_sub_n) )\n",
    "        print(\"Pn\", P_sub_n,\"pn_sig\", P_sub_ns)\n",
    "        cont=cont+1\n",
    "    return P_sub_n,cont"
   ]
  },
  {
   "cell_type": "code",
   "execution_count": 119,
   "metadata": {},
   "outputs": [
    {
     "name": "stdout",
     "output_type": "stream",
     "text": [
      "NR \n",
      "-1 -1.5\n",
      "Pn -1.5 pn_sig -1.4393939393939394\n",
      "Pn -1.4393939393939394 pn_sig -1.4380268191639956\n",
      "Pn -1.4380268191639956 pn_sig -1.4380261518777897\n",
      "Pn -1.4380261518777897 pn_sig -1.438026151877631\n",
      "Pn -1.438026151877631 pn_sig -1.438026151877631\n"
     ]
    },
    {
     "data": {
      "text/plain": [
       "(-1.438026151877631, 5)"
      ]
     },
     "execution_count": 119,
     "metadata": {},
     "output_type": "execute_result"
    }
   ],
   "source": [
    "print(\"NR \") \n",
    "Newton_raphson(PS0)"
   ]
  },
  {
   "cell_type": "code",
   "execution_count": null,
   "metadata": {},
   "outputs": [],
   "source": []
  },
  {
   "cell_type": "code",
   "execution_count": null,
   "metadata": {},
   "outputs": [],
   "source": []
  },
  {
   "cell_type": "code",
   "execution_count": null,
   "metadata": {},
   "outputs": [],
   "source": []
  }
 ],
 "metadata": {
  "kernelspec": {
   "display_name": "Python 3",
   "language": "python",
   "name": "python3"
  },
  "language_info": {
   "codemirror_mode": {
    "name": "ipython",
    "version": 3
   },
   "file_extension": ".py",
   "mimetype": "text/x-python",
   "name": "python",
   "nbconvert_exporter": "python",
   "pygments_lexer": "ipython3",
   "version": "3.8.1"
  }
 },
 "nbformat": 4,
 "nbformat_minor": 4
}
