{
 "cells": [
  {
   "cell_type": "markdown",
   "metadata": {},
   "source": [
    "# Tarea Reconocimiento del Habla\n",
    "\n",
    "La dependencia temporal es caracterizada en forma matemática por las redes Bayesianas, en las cuales los valores futuros solamente dependen de los valores recientemente observados. Tal como en redes Bayesianas con probabilidades discretas, tambi\\'en es posible estudiar secuencias temporales discretas.\n",
    "\n",
    "Estas secuencias se dan en muchas problemas en que necesitamos clasificar el estado de un proceso (oculto o latente) $Z$ que toma valores (discretos o contínuos) a los que tenemos acceso a través de  variables observadas $X$.  \n",
    "\n",
    "Sin embargo, si sabemos que el proceso $Z$ tiene la propiedad de Markov de primer orden $p(z_k \\vert z_{k-1},\\ldots,z_1)=p(z_k \\vert z_{k-1})$ y que las observaciones $X$ son independientes entre si y solamente dependen de la variable oculta."
   ]
  },
  {
   "cell_type": "markdown",
   "metadata": {},
   "source": [
    "# Descriptores de audio\n",
    "\n",
    "La Densidad Espectral de una señal es una función matemática que nos informa de cómo está distribuida la potencia de dicha señal sobre las distintas componentes de frecuencias sobre las que está formada. El espectrograma consiste en utilizar un determinado número de muestras por medio de una ventana temporal, con un tamaño específico. A continuación se hace el cálculo del contenido frecuencial de las muestras puestas en ventana, y se representan en una gráfica en tres dimensiones.\n",
    "\n",
    "Seguidamente se desplaza la ventana a lo largo del tiempo de la señal, para escoger otro número de muestras diferentes, se vuelve a calcular el contenido frecuencial y se vuelve a representar en la misma gráfica que la anterior. Esta operación se repite sucesivamente a lo largo de la señal.\n",
    "\n",
    "La suma de la representación de las transformadas de Fourier de las ventanas consecutivas, aporta información en el dominio frecuencial de la señal, y de la variación de la energía y la frecuencia en función del tiempo.\n",
    "\n",
    "Una vez puesta en ventana la señal, se calcula de la Transformada de Fourier de Tiempo Reducido (STFT) del conjunto de muestras puestas en ventana. El STFT es un método de procesamiento de señales no estacionarias en las que las características estadísticas varían en función del tiempo. El STFT extrae varias tramas de una señal que son analizadas en cada uno de los desplazamientos de la ventana a lo largo del tiempo.\n",
    "\n",
    "El desplazamiento de la ventana puede ser solapado para asegurar que las discontinuidades que se producen entre tramas no pasen por alto y se analicen en el desplazamiento de la trama siguiente, a este solapamiento de tramas también se le conoce como overlap"
   ]
  },
  {
   "cell_type": "code",
   "execution_count": 3,
   "metadata": {},
   "outputs": [],
   "source": [
    "from python_speech_features import mfcc\n",
    "from python_speech_features import logfbank\n",
    "import scipy.io.wavfile as wav\n",
    "import os\n",
    "import numpy as np\n",
    "\n",
    "def extract_mfcc(path,nfilt,nfft):\n",
    "    rate,sig =  wav.read(path)\n",
    "    fbank_feat = logfbank(sig, rate, nfft=nfft)\n",
    "    return fbank_feat\n",
    "\n",
    "def build_data_set(dir,nfilt=26,nfft=512,split=0.8):\n",
    "    file_list = [f for f in os.listdir(dir) if os.path.splitext(f)[1] == '.wav']\n",
    "    train_dataset = []\n",
    "    test_dataset = []\n",
    "    (num_frames,ncep) = extract_mfcc(dir+\"/\"+file_list[0],nfilt,nfft).shape\n",
    "    train_size=int(len(file_list)*split)\n",
    "    for file_name in file_list[:train_size]:\n",
    "        path=dir+\"/\"+file_name\n",
    "        feature = extract_mfcc(path,nfilt,nfft)\n",
    "        #if feature.shape==(num_frames,ncep):\n",
    "        train_dataset.append(feature)\n",
    "    for file_name in file_list[train_size:]:\n",
    "        path=dir+\"/\"+file_name\n",
    "        feature = extract_mfcc(path,nfilt,nfft)\n",
    "        #if feature.shape==(num_frames,ncep):\n",
    "        test_dataset.append(feature)\n",
    "    return train_dataset,test_dataset"
   ]
  },
  {
   "cell_type": "code",
   "execution_count": 4,
   "metadata": {},
   "outputs": [],
   "source": [
    "yes_train_features,yes_test_features=build_data_set('yes')"
   ]
  },
  {
   "cell_type": "code",
   "execution_count": 7,
   "metadata": {},
   "outputs": [
    {
     "name": "stdout",
     "output_type": "stream",
     "text": [
      "3235\n",
      "809\n"
     ]
    },
    {
     "data": {
      "text/plain": [
       "(None, None)"
      ]
     },
     "execution_count": 7,
     "metadata": {},
     "output_type": "execute_result"
    }
   ],
   "source": [
    "print(len(yes_train_features)),print(len(yes_test_features))"
   ]
  },
  {
   "cell_type": "code",
   "execution_count": 8,
   "metadata": {},
   "outputs": [],
   "source": [
    "down_train_features,down_test_features=build_data_set('down')"
   ]
  },
  {
   "cell_type": "code",
   "execution_count": 10,
   "metadata": {
    "scrolled": false
   },
   "outputs": [
    {
     "name": "stdout",
     "output_type": "stream",
     "text": [
      "3133\n",
      "784\n"
     ]
    },
    {
     "data": {
      "text/plain": [
       "(None, None)"
      ]
     },
     "execution_count": 10,
     "metadata": {},
     "output_type": "execute_result"
    }
   ],
   "source": [
    "print(len(down_train_features)),print(len(down_test_features))"
   ]
  },
  {
   "cell_type": "code",
   "execution_count": 11,
   "metadata": {},
   "outputs": [],
   "source": [
    "go_train_features,go_test_features=build_data_set('go')"
   ]
  },
  {
   "cell_type": "code",
   "execution_count": 12,
   "metadata": {},
   "outputs": [
    {
     "name": "stdout",
     "output_type": "stream",
     "text": [
      "3104\n",
      "776\n"
     ]
    },
    {
     "data": {
      "text/plain": [
       "(None, None)"
      ]
     },
     "execution_count": 12,
     "metadata": {},
     "output_type": "execute_result"
    }
   ],
   "source": [
    "print(len(go_train_features)),print(len(go_test_features))"
   ]
  },
  {
   "cell_type": "code",
   "execution_count": 13,
   "metadata": {},
   "outputs": [],
   "source": [
    "left_train_features,left_test_features=build_data_set('left')"
   ]
  },
  {
   "cell_type": "code",
   "execution_count": 14,
   "metadata": {},
   "outputs": [
    {
     "name": "stdout",
     "output_type": "stream",
     "text": [
      "3040\n",
      "761\n"
     ]
    },
    {
     "data": {
      "text/plain": [
       "(None, None)"
      ]
     },
     "execution_count": 14,
     "metadata": {},
     "output_type": "execute_result"
    }
   ],
   "source": [
    "print(len(left_train_features)),print(len(left_test_features))"
   ]
  },
  {
   "cell_type": "code",
   "execution_count": 15,
   "metadata": {},
   "outputs": [],
   "source": [
    "off_train_features,off_test_features=build_data_set('off')"
   ]
  },
  {
   "cell_type": "code",
   "execution_count": 16,
   "metadata": {},
   "outputs": [
    {
     "name": "stdout",
     "output_type": "stream",
     "text": [
      "2996\n",
      "749\n"
     ]
    },
    {
     "data": {
      "text/plain": [
       "(None, None)"
      ]
     },
     "execution_count": 16,
     "metadata": {},
     "output_type": "execute_result"
    }
   ],
   "source": [
    "print(len(off_train_features)),print(len(off_test_features))"
   ]
  },
  {
   "cell_type": "code",
   "execution_count": 17,
   "metadata": {},
   "outputs": [],
   "source": [
    "on_train_features,on_test_features=build_data_set('on')"
   ]
  },
  {
   "cell_type": "code",
   "execution_count": 18,
   "metadata": {},
   "outputs": [
    {
     "name": "stdout",
     "output_type": "stream",
     "text": [
      "3076\n",
      "769\n"
     ]
    },
    {
     "data": {
      "text/plain": [
       "(None, None)"
      ]
     },
     "execution_count": 18,
     "metadata": {},
     "output_type": "execute_result"
    }
   ],
   "source": [
    "print(len(on_train_features)),print(len(on_test_features))"
   ]
  },
  {
   "cell_type": "code",
   "execution_count": 19,
   "metadata": {},
   "outputs": [],
   "source": [
    "right_train_features,right_test_features=build_data_set('right')"
   ]
  },
  {
   "cell_type": "code",
   "execution_count": 20,
   "metadata": {},
   "outputs": [
    {
     "name": "stdout",
     "output_type": "stream",
     "text": [
      "3022\n",
      "756\n"
     ]
    },
    {
     "data": {
      "text/plain": [
       "(None, None)"
      ]
     },
     "execution_count": 20,
     "metadata": {},
     "output_type": "execute_result"
    }
   ],
   "source": [
    "print(len(right_train_features)),print(len(right_test_features))"
   ]
  },
  {
   "cell_type": "code",
   "execution_count": 21,
   "metadata": {},
   "outputs": [],
   "source": [
    "stop_train_features,stop_test_features=build_data_set('stop')"
   ]
  },
  {
   "cell_type": "code",
   "execution_count": 22,
   "metadata": {},
   "outputs": [
    {
     "name": "stdout",
     "output_type": "stream",
     "text": [
      "3097\n",
      "775\n"
     ]
    },
    {
     "data": {
      "text/plain": [
       "(None, None)"
      ]
     },
     "execution_count": 22,
     "metadata": {},
     "output_type": "execute_result"
    }
   ],
   "source": [
    "print(len(stop_train_features)),print(len(stop_test_features))"
   ]
  },
  {
   "cell_type": "code",
   "execution_count": 23,
   "metadata": {},
   "outputs": [],
   "source": [
    "up_train_features,up_test_features=build_data_set('up')"
   ]
  },
  {
   "cell_type": "code",
   "execution_count": 24,
   "metadata": {},
   "outputs": [
    {
     "name": "stdout",
     "output_type": "stream",
     "text": [
      "2978\n",
      "745\n"
     ]
    },
    {
     "data": {
      "text/plain": [
       "(None, None)"
      ]
     },
     "execution_count": 24,
     "metadata": {},
     "output_type": "execute_result"
    }
   ],
   "source": [
    "print(len(up_train_features)),print(len(up_test_features))"
   ]
  },
  {
   "cell_type": "code",
   "execution_count": 25,
   "metadata": {},
   "outputs": [],
   "source": [
    "no_train_features,no_test_features=build_data_set('no')"
   ]
  },
  {
   "cell_type": "code",
   "execution_count": 26,
   "metadata": {},
   "outputs": [
    {
     "name": "stdout",
     "output_type": "stream",
     "text": [
      "3152\n",
      "789\n"
     ]
    },
    {
     "data": {
      "text/plain": [
       "(None, None)"
      ]
     },
     "execution_count": 26,
     "metadata": {},
     "output_type": "execute_result"
    }
   ],
   "source": [
    "print(len(no_train_features)),print(len(no_test_features))"
   ]
  },
  {
   "cell_type": "code",
   "execution_count": 27,
   "metadata": {},
   "outputs": [
    {
     "data": {
      "image/png": "[encoded data removed]",
      "text/plain": [
       "<Figure size 1096.62x288 with 1 Axes>"
      ]
     },
     "metadata": {
      "needs_background": "light"
     },
     "output_type": "display_data"
    }
   ],
   "source": [
    "import matplotlib.pyplot as plt\n",
    "filterbank_features = yes_train_features[0].T\n",
    "plt.matshow(filterbank_features)\n",
    "plt.title('Yes Filter bank')\n",
    "\n",
    "plt.show()"
   ]
  },
  {
   "cell_type": "code",
   "execution_count": 28,
   "metadata": {},
   "outputs": [
    {
     "data": {
      "image/png": "[encoded data removed]",
      "text/plain": [
       "<Figure size 1096.62x288 with 1 Axes>"
      ]
     },
     "metadata": {
      "needs_background": "light"
     },
     "output_type": "display_data"
    }
   ],
   "source": [
    "filterbank_features = yes_test_features[6].T\n",
    "plt.matshow(filterbank_features)\n",
    "plt.title('No Filter bank')\n",
    "\n",
    "plt.show()"
   ]
  },
  {
   "cell_type": "markdown",
   "metadata": {},
   "source": [
    "## Modelo HMM Gaussiano\n",
    "\n",
    "Las variables observadas pueden ser variables discretas o continuas. Cuando se consideran v.a. discretas, podemos especificar una matriz $\\boldsymbol{A}_{[N \\times N]}$ de transición para los $N$ posibles estados, una matriz de emisión $\\boldsymbol{B}_{[M \\times N]}$ y un conjunto de probabilidades iniciales $\\boldsymbol{\\pi}$.\n",
    "\n",
    "1. Filtrado : Determinar $p(z_n \\vert X_n)$.\n",
    "2. Verosimilitud Determinar $p(X_n)$. \n",
    "3. Secuencia más probable} $p(Z_n \\vert X_n)$."
   ]
  },
  {
   "cell_type": "code",
   "execution_count": 29,
   "metadata": {},
   "outputs": [],
   "source": [
    "import numpy as np\n",
    "from hmmlearn import hmm\n",
    "\n",
    "train_features={'yes':yes_train_features,'no':no_train_features,'up':up_train_features,'down':down_train_features,'right':right_train_features,\n",
    "               'left':left_train_features,'go':go_train_features,'off':off_train_features,'on':on_train_features,'stop':stop_train_features}\n",
    "\n",
    "n_components=3\n",
    "covariance_type=\"diag\"\n",
    "\n",
    "#”spherical” — each state uses a single variance value that applies to all features.\n",
    "#”diag” — each state uses a diagonal covariance matrix.\n",
    "#”full” — each state uses a full (i.e. unrestricted) covariance matrix.\n",
    "#”tied” — all states use the same full covariance matrix.\n",
    "\n",
    "models={i:hmm.GaussianHMM(n_components=n_components, covariance_type=covariance_type) for i in train_features.keys()}"
   ]
  },
  {
   "cell_type": "code",
   "execution_count": 30,
   "metadata": {},
   "outputs": [
    {
     "data": {
      "text/plain": [
       "{'yes': GaussianHMM(n_components=3),\n",
       " 'no': GaussianHMM(n_components=3),\n",
       " 'up': GaussianHMM(n_components=3),\n",
       " 'down': GaussianHMM(n_components=3),\n",
       " 'right': GaussianHMM(n_components=3),\n",
       " 'left': GaussianHMM(n_components=3),\n",
       " 'go': GaussianHMM(n_components=3),\n",
       " 'off': GaussianHMM(n_components=3),\n",
       " 'on': GaussianHMM(n_components=3),\n",
       " 'stop': GaussianHMM(n_components=3)}"
      ]
     },
     "execution_count": 30,
     "metadata": {},
     "output_type": "execute_result"
    }
   ],
   "source": [
    "models"
   ]
  },
  {
   "cell_type": "code",
   "execution_count": 32,
   "metadata": {
    "scrolled": true
   },
   "outputs": [
    {
     "name": "stdout",
     "output_type": "stream",
     "text": [
      "label : yes, score : -6219.13\n",
      "label : no, score : -6106.46\n",
      "label : up, score : -6065.22\n",
      "label : down, score : -6142.34\n",
      "label : right, score : -6231.38\n",
      "label : left, score : -6211.94\n",
      "label : go, score : -6084.04\n",
      "label : off, score : -6103.66\n",
      "label : on, score : -6093.07\n",
      "label : stop, score : -6251.35\n"
     ]
    }
   ],
   "source": [
    "for label,model in models.items():\n",
    "    time_steps=[]\n",
    "    num_samples=len(train_features[label])\n",
    "    for i in train_features[label]:\n",
    "        time_s=i.shape[0]\n",
    "        time_steps.append(time_s)\n",
    "    num_features=i.shape[1]\n",
    "    data_sample=np.concatenate(train_features[label])\n",
    "    model.fit(data_sample,lengths=time_steps)\n",
    "    print('label : {0}, score : {1:.2f}'.format(label,model.score(data_sample)/num_samples))"
   ]
  },
  {
   "cell_type": "code",
   "execution_count": 37,
   "metadata": {},
   "outputs": [
    {
     "name": "stdout",
     "output_type": "stream",
     "text": [
      "----------------------------------------------------------------\n",
      "true label : yes, pred label yes, score : -20118889.61\n",
      "true label : yes, pred label no, score : -21438724.15\n",
      "true label : yes, pred label up, score : -21074914.13\n",
      "true label : yes, pred label down, score : -21319380.37\n",
      "true label : yes, pred label right, score : -20710945.31\n",
      "true label : yes, pred label left, score : -20407150.25\n",
      "true label : yes, pred label go, score : -21188393.80\n",
      "true label : yes, pred label off, score : -20736424.56\n",
      "true label : yes, pred label on, score : -21412507.37\n",
      "true label : yes, pred label stop, score : -20377335.01\n",
      "Conditional probability : yes|{'yes': 1.0, 'no': 0.0, 'up': 0.0, 'down': 0.0, 'right': 0.0, 'left': 0.0, 'go': 0.0, 'off': 0.0, 'on': 0.0, 'stop': 0.0}\n",
      "----------------------------------------------------------------\n",
      "true label : no, pred label yes, score : -20099040.26\n",
      "true label : no, pred label no, score : -19247569.13\n",
      "true label : no, pred label up, score : -19495111.17\n",
      "true label : no, pred label down, score : -19359895.79\n",
      "true label : no, pred label right, score : -19407852.58\n",
      "true label : no, pred label left, score : -19652927.34\n",
      "true label : no, pred label go, score : -19267903.97\n",
      "true label : no, pred label off, score : -19673270.36\n",
      "true label : no, pred label on, score : -19314821.99\n",
      "true label : no, pred label stop, score : -19770494.39\n",
      "Conditional probability : no|{'yes': 0.0, 'no': 1.0, 'up': 0.0, 'down': 0.0, 'right': 0.0, 'left': 0.0, 'go': 0.0, 'off': 0.0, 'on': 0.0, 'stop': 0.0}\n",
      "----------------------------------------------------------------\n",
      "true label : up, pred label yes, score : -18637866.30\n",
      "true label : up, pred label no, score : -18306587.22\n",
      "true label : up, pred label up, score : -18062228.14\n",
      "true label : up, pred label down, score : -18360391.09\n",
      "true label : up, pred label right, score : -18195401.63\n",
      "true label : up, pred label left, score : -18268096.65\n",
      "true label : up, pred label go, score : -18241385.07\n",
      "true label : up, pred label off, score : -18179578.53\n",
      "true label : up, pred label on, score : -18237717.33\n",
      "true label : up, pred label stop, score : -18265934.50\n",
      "Conditional probability : up|{'yes': 0.0, 'no': 0.0, 'up': 1.0, 'down': 0.0, 'right': 0.0, 'left': 0.0, 'go': 0.0, 'off': 0.0, 'on': 0.0, 'stop': 0.0}\n",
      "----------------------------------------------------------------\n",
      "true label : down, pred label yes, score : -20120111.56\n",
      "true label : down, pred label no, score : -19386275.42\n",
      "true label : down, pred label up, score : -19657908.03\n",
      "true label : down, pred label down, score : -19243949.94\n",
      "true label : down, pred label right, score : -19392588.79\n",
      "true label : down, pred label left, score : -19628189.31\n",
      "true label : down, pred label go, score : -19377430.76\n",
      "true label : down, pred label off, score : -19770628.27\n",
      "true label : down, pred label on, score : -19392218.31\n",
      "true label : down, pred label stop, score : -19763832.07\n",
      "Conditional probability : down|{'yes': 0.0, 'no': 0.0, 'up': 0.0, 'down': 1.0, 'right': 0.0, 'left': 0.0, 'go': 0.0, 'off': 0.0, 'on': 0.0, 'stop': 0.0}\n",
      "----------------------------------------------------------------\n",
      "true label : right, pred label yes, score : -19293051.31\n",
      "true label : right, pred label no, score : -19027181.89\n",
      "true label : right, pred label up, score : -19011348.69\n",
      "true label : right, pred label down, score : -18997747.87\n",
      "true label : right, pred label right, score : -18831221.08\n",
      "true label : right, pred label left, score : -18952948.55\n",
      "true label : right, pred label go, score : -18959477.94\n",
      "true label : right, pred label off, score : -19108351.53\n",
      "true label : right, pred label on, score : -19036476.82\n",
      "true label : right, pred label stop, score : -19088149.28\n",
      "Conditional probability : right|{'yes': 0.0, 'no': 0.0, 'up': 0.0, 'down': 0.0, 'right': 1.0, 'left': 0.0, 'go': 0.0, 'off': 0.0, 'on': 0.0, 'stop': 0.0}\n",
      "----------------------------------------------------------------\n",
      "true label : left, pred label yes, score : -19095557.81\n",
      "true label : left, pred label no, score : -19365579.25\n",
      "true label : left, pred label up, score : -19126890.40\n",
      "true label : left, pred label down, score : -19350553.55\n",
      "true label : left, pred label right, score : -18994449.93\n",
      "true label : left, pred label left, score : -18884286.98\n",
      "true label : left, pred label go, score : -19233938.37\n",
      "true label : left, pred label off, score : -19040837.12\n",
      "true label : left, pred label on, score : -19310763.92\n",
      "true label : left, pred label stop, score : -18988210.01\n",
      "Conditional probability : left|{'yes': 0.0, 'no': 0.0, 'up': 0.0, 'down': 0.0, 'right': 0.0, 'left': 1.0, 'go': 0.0, 'off': 0.0, 'on': 0.0, 'stop': 0.0}\n",
      "----------------------------------------------------------------\n",
      "true label : go, pred label yes, score : -19627344.21\n",
      "true label : go, pred label no, score : -18924348.86\n",
      "true label : go, pred label up, score : -19105537.01\n",
      "true label : go, pred label down, score : -19013643.76\n",
      "true label : go, pred label right, score : -19005913.41\n",
      "true label : go, pred label left, score : -19211813.81\n",
      "true label : go, pred label go, score : -18884853.62\n",
      "true label : go, pred label off, score : -19209942.29\n",
      "true label : go, pred label on, score : -18966854.78\n",
      "true label : go, pred label stop, score : -19319836.46\n",
      "Conditional probability : go|{'yes': 0.0, 'no': 0.0, 'up': 0.0, 'down': 0.0, 'right': 0.0, 'left': 0.0, 'go': 1.0, 'off': 0.0, 'on': 0.0, 'stop': 0.0}\n",
      "----------------------------------------------------------------\n",
      "true label : off, pred label yes, score : -18789296.86\n",
      "true label : off, pred label no, score : -18770564.55\n",
      "true label : off, pred label up, score : -18423946.56\n",
      "true label : off, pred label down, score : -18846097.14\n",
      "true label : off, pred label right, score : -18509938.56\n",
      "true label : off, pred label left, score : -18435386.70\n",
      "true label : off, pred label go, score : -18620509.28\n",
      "true label : off, pred label off, score : -18286574.70\n",
      "true label : off, pred label on, score : -18619518.42\n",
      "true label : off, pred label stop, score : -18425190.46\n",
      "Conditional probability : off|{'yes': 0.0, 'no': 0.0, 'up': 0.0, 'down': 0.0, 'right': 0.0, 'left': 0.0, 'go': 0.0, 'off': 1.0, 'on': 0.0, 'stop': 0.0}\n",
      "----------------------------------------------------------------\n",
      "true label : on, pred label yes, score : -19634490.04\n",
      "true label : on, pred label no, score : -18817539.49\n",
      "true label : on, pred label up, score : -18936697.83\n",
      "true label : on, pred label down, score : -18849205.16\n",
      "true label : on, pred label right, score : -18905554.09\n",
      "true label : on, pred label left, score : -19110015.32\n",
      "true label : on, pred label go, score : -18807198.20\n",
      "true label : on, pred label off, score : -19014844.08\n",
      "true label : on, pred label on, score : -18742270.33\n",
      "true label : on, pred label stop, score : -19163542.53\n",
      "Conditional probability : on|{'yes': 0.0, 'no': 0.0, 'up': 0.0, 'down': 0.0, 'right': 0.0, 'left': 0.0, 'go': 0.0, 'off': 0.0, 'on': 1.0, 'stop': 0.0}\n",
      "----------------------------------------------------------------\n",
      "true label : stop, pred label yes, score : -19653107.93\n",
      "true label : stop, pred label no, score : -20057675.05\n",
      "true label : stop, pred label up, score : -19662510.89\n",
      "true label : stop, pred label down, score : -20011336.52\n",
      "true label : stop, pred label right, score : -19625954.30\n",
      "true label : stop, pred label left, score : -19480384.38\n",
      "true label : stop, pred label go, score : -19882797.96\n",
      "true label : stop, pred label off, score : -19531227.59\n",
      "true label : stop, pred label on, score : -19945833.83\n",
      "true label : stop, pred label stop, score : -19360437.07\n",
      "Conditional probability : stop|{'yes': 0.0, 'no': 0.0, 'up': 0.0, 'down': 0.0, 'right': 0.0, 'left': 0.0, 'go': 0.0, 'off': 0.0, 'on': 0.0, 'stop': 1.0}\n"
     ]
    }
   ],
   "source": [
    "from scipy.special import logsumexp\n",
    "\n",
    "test_features={'yes':yes_test_features,'no':no_test_features,'up':up_test_features,'down':down_test_features,'right':right_test_features,\n",
    "               'left':left_test_features,'go':go_test_features,'off':off_test_features,'on':on_test_features,'stop':stop_test_features}\n",
    "normalize = lambda p,v : np.exp(p-logsumexp(v))\n",
    "\n",
    "for label in models.keys():\n",
    "    print('----------------------------------------------------------------')\n",
    "    time_steps=[]\n",
    "    num_samples=len(train_features[label])\n",
    "    for i in train_features[label]:\n",
    "        time_s=i.shape[0]\n",
    "        time_steps.append(time_s)\n",
    "    num_features=i.shape[1]\n",
    "    data_sample=np.concatenate(train_features[label])\n",
    "    potential=dict()\n",
    "    for pred,model in models.items():\n",
    "        score=model.score(data_sample)\n",
    "        print('true label : {0}, pred label {1}, score : {2:.2f}'.format(label,pred,score))\n",
    "        potential.update({pred:score})\n",
    "    prob={k:normalize(v,list(potential.values())) for k,v in potential.items()}\n",
    "    print('Conditional probability : {0}|{1}'.format(label,prob))"
   ]
  },
  {
   "cell_type": "code",
   "execution_count": 68,
   "metadata": {},
   "outputs": [],
   "source": [
    "def test_models(labels,models,features):\n",
    "    true_label=[]\n",
    "    pred_label=[]\n",
    "    for label in models.keys():\n",
    "        num_samples = len(test_features[label])\n",
    "        time_steps = []\n",
    "        for i in test_features[label]:\n",
    "            time_s = i.shape[0]\n",
    "            time_steps.append(time_s)\n",
    "        num_features=i.shape[1]\n",
    "        for i in range(num_samples):\n",
    "            potential=dict()\n",
    "            for pred,model in models.items():\n",
    "                score=model.score(features[label][i])\n",
    "                potential.update({pred:score})\n",
    "            prob={k:normalize(v,list(potential.values())) for k,v in potential.items()}\n",
    "            max_pred=max(prob, key=prob.get)\n",
    "            true_label.append(labels[label])\n",
    "            pred_label.append(labels[max_pred])\n",
    "    return true_label,pred_label"
   ]
  },
  {
   "cell_type": "code",
   "execution_count": 70,
   "metadata": {
    "scrolled": true
   },
   "outputs": [],
   "source": [
    "labels={'yes': 0, 'no':1,'up':2,'down':3,'right':4,'left':5,'go':6,'off':7,'on':8,'stop':9}\n",
    "y_true,y_pred=test_models(labels,models,test_features)"
   ]
  },
  {
   "cell_type": "code",
   "execution_count": 71,
   "metadata": {},
   "outputs": [
    {
     "name": "stdout",
     "output_type": "stream",
     "text": [
      "              precision    recall  f1-score   support\n",
      "\n",
      "         yes       0.70      0.56      0.62       809\n",
      "          no       0.34      0.24      0.28       789\n",
      "          up       0.16      0.48      0.25       745\n",
      "        down       0.22      0.41      0.29       784\n",
      "       right       0.38      0.13      0.20       756\n",
      "        left       0.33      0.19      0.24       761\n",
      "          go       0.31      0.22      0.25       776\n",
      "         off       0.40      0.26      0.32       749\n",
      "          on       0.46      0.13      0.21       769\n",
      "        stop       0.35      0.43      0.38       775\n",
      "\n",
      "    accuracy                           0.31      7713\n",
      "   macro avg       0.37      0.30      0.30      7713\n",
      "weighted avg       0.37      0.31      0.30      7713\n",
      "\n"
     ]
    }
   ],
   "source": [
    "from sklearn.metrics import classification_report\n",
    "\n",
    "target_names = list(labels.keys())\n",
    "print(classification_report(y_true, y_pred, target_names=target_names))"
   ]
  },
  {
   "cell_type": "code",
   "execution_count": 72,
   "metadata": {},
   "outputs": [
    {
     "name": "stdout",
     "output_type": "stream",
     "text": [
      "[[451   6 131  57  28  37   5  16   2  76]\n",
      " [  3 188 168 205  10  26 116  24  20  29]\n",
      " [  3  18 358 114  11  20  15  59  14 133]\n",
      " [  9  80 163 321  24  41  81  19  25  21]\n",
      " [ 22  46 225 161  99  83  51  16   9  44]\n",
      " [ 67  17 257  76  31 141  19  51   5  97]\n",
      " [  5 118 166 199  11  35 168  27  18  29]\n",
      " [ 13  11 241  78  14  16  13 196  20 147]\n",
      " [  1  60 224 196  11  18  68  40 103  48]\n",
      " [ 66   6 242  38  19  10   9  47   7 331]]\n"
     ]
    }
   ],
   "source": [
    "from sklearn.metrics import confusion_matrix\n",
    "\n",
    "print(confusion_matrix(y_true, y_pred))"
   ]
  },
  {
   "cell_type": "code",
   "execution_count": null,
   "metadata": {
    "scrolled": true
   },
   "outputs": [],
   "source": []
  },
  {
   "cell_type": "code",
   "execution_count": null,
   "metadata": {},
   "outputs": [],
   "source": []
  },
  {
   "cell_type": "code",
   "execution_count": null,
   "metadata": {},
   "outputs": [],
   "source": []
  },
  {
   "cell_type": "code",
   "execution_count": null,
   "metadata": {},
   "outputs": [],
   "source": []
  },
  {
   "cell_type": "code",
   "execution_count": null,
   "metadata": {},
   "outputs": [],
   "source": []
  }
 ],
 "metadata": {
  "kernelspec": {
   "display_name": "Python 3",
   "language": "python",
   "name": "python3"
  },
  "language_info": {
   "codemirror_mode": {
    "name": "ipython",
    "version": 3
   },
   "file_extension": ".py",
   "mimetype": "text/x-python",
   "name": "python",
   "nbconvert_exporter": "python",
   "pygments_lexer": "ipython3",
   "version": "3.8.1"
  }
 },
 "nbformat": 4,
 "nbformat_minor": 2
}
